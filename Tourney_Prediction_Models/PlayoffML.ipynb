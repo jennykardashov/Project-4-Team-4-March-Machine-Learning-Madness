{
 "cells": [
  {
   "cell_type": "code",
   "execution_count": 24,
   "metadata": {},
   "outputs": [],
   "source": [
    "import matplotlib.pyplot as plt\n",
    "from sklearn.neighbors import KNeighborsClassifier\n",
    "import pandas as pd\n",
    "from sklearn.preprocessing import StandardScaler\n",
    "from sklearn.model_selection import train_test_split\n",
    "from sklearn.metrics import confusion_matrix, classification_report"
   ]
  },
  {
   "cell_type": "code",
   "execution_count": 25,
   "metadata": {},
   "outputs": [
    {
     "data": {
      "text/html": [
       "<div>\n",
       "<style scoped>\n",
       "    .dataframe tbody tr th:only-of-type {\n",
       "        vertical-align: middle;\n",
       "    }\n",
       "\n",
       "    .dataframe tbody tr th {\n",
       "        vertical-align: top;\n",
       "    }\n",
       "\n",
       "    .dataframe thead th {\n",
       "        text-align: right;\n",
       "    }\n",
       "</style>\n",
       "<table border=\"1\" class=\"dataframe\">\n",
       "  <thead>\n",
       "    <tr style=\"text-align: right;\">\n",
       "      <th></th>\n",
       "      <th>TEAM</th>\n",
       "      <th>CONF</th>\n",
       "      <th>G</th>\n",
       "      <th>W</th>\n",
       "      <th>ADJOE</th>\n",
       "      <th>ADJDE</th>\n",
       "      <th>BARTHAG</th>\n",
       "      <th>EFG_O</th>\n",
       "      <th>EFG_D</th>\n",
       "      <th>TOR</th>\n",
       "      <th>...</th>\n",
       "      <th>FTRD</th>\n",
       "      <th>2P_O</th>\n",
       "      <th>2P_D</th>\n",
       "      <th>3P_O</th>\n",
       "      <th>3P_D</th>\n",
       "      <th>ADJ_T</th>\n",
       "      <th>WAB</th>\n",
       "      <th>POSTSEASON</th>\n",
       "      <th>SEED</th>\n",
       "      <th>YEAR</th>\n",
       "    </tr>\n",
       "  </thead>\n",
       "  <tbody>\n",
       "    <tr>\n",
       "      <th>0</th>\n",
       "      <td>North Carolina</td>\n",
       "      <td>ACC</td>\n",
       "      <td>40</td>\n",
       "      <td>33</td>\n",
       "      <td>123.3</td>\n",
       "      <td>94.9</td>\n",
       "      <td>0.9531</td>\n",
       "      <td>52.6</td>\n",
       "      <td>48.1</td>\n",
       "      <td>15.4</td>\n",
       "      <td>...</td>\n",
       "      <td>30.4</td>\n",
       "      <td>53.9</td>\n",
       "      <td>44.6</td>\n",
       "      <td>32.7</td>\n",
       "      <td>36.2</td>\n",
       "      <td>71.7</td>\n",
       "      <td>8.6</td>\n",
       "      <td>2ND</td>\n",
       "      <td>1.0</td>\n",
       "      <td>2016</td>\n",
       "    </tr>\n",
       "    <tr>\n",
       "      <th>1</th>\n",
       "      <td>Wisconsin</td>\n",
       "      <td>B10</td>\n",
       "      <td>40</td>\n",
       "      <td>36</td>\n",
       "      <td>129.1</td>\n",
       "      <td>93.6</td>\n",
       "      <td>0.9758</td>\n",
       "      <td>54.8</td>\n",
       "      <td>47.7</td>\n",
       "      <td>12.4</td>\n",
       "      <td>...</td>\n",
       "      <td>22.4</td>\n",
       "      <td>54.8</td>\n",
       "      <td>44.7</td>\n",
       "      <td>36.5</td>\n",
       "      <td>37.5</td>\n",
       "      <td>59.3</td>\n",
       "      <td>11.3</td>\n",
       "      <td>2ND</td>\n",
       "      <td>1.0</td>\n",
       "      <td>2015</td>\n",
       "    </tr>\n",
       "    <tr>\n",
       "      <th>2</th>\n",
       "      <td>Michigan</td>\n",
       "      <td>B10</td>\n",
       "      <td>40</td>\n",
       "      <td>33</td>\n",
       "      <td>114.4</td>\n",
       "      <td>90.4</td>\n",
       "      <td>0.9375</td>\n",
       "      <td>53.9</td>\n",
       "      <td>47.7</td>\n",
       "      <td>14.0</td>\n",
       "      <td>...</td>\n",
       "      <td>30.0</td>\n",
       "      <td>54.7</td>\n",
       "      <td>46.8</td>\n",
       "      <td>35.2</td>\n",
       "      <td>33.2</td>\n",
       "      <td>65.9</td>\n",
       "      <td>6.9</td>\n",
       "      <td>2ND</td>\n",
       "      <td>3.0</td>\n",
       "      <td>2018</td>\n",
       "    </tr>\n",
       "    <tr>\n",
       "      <th>3</th>\n",
       "      <td>Texas Tech</td>\n",
       "      <td>B12</td>\n",
       "      <td>38</td>\n",
       "      <td>31</td>\n",
       "      <td>115.2</td>\n",
       "      <td>85.2</td>\n",
       "      <td>0.9696</td>\n",
       "      <td>53.5</td>\n",
       "      <td>43.0</td>\n",
       "      <td>17.7</td>\n",
       "      <td>...</td>\n",
       "      <td>36.6</td>\n",
       "      <td>52.8</td>\n",
       "      <td>41.9</td>\n",
       "      <td>36.5</td>\n",
       "      <td>29.7</td>\n",
       "      <td>67.5</td>\n",
       "      <td>7.0</td>\n",
       "      <td>2ND</td>\n",
       "      <td>3.0</td>\n",
       "      <td>2019</td>\n",
       "    </tr>\n",
       "    <tr>\n",
       "      <th>4</th>\n",
       "      <td>Gonzaga</td>\n",
       "      <td>WCC</td>\n",
       "      <td>39</td>\n",
       "      <td>37</td>\n",
       "      <td>117.8</td>\n",
       "      <td>86.3</td>\n",
       "      <td>0.9728</td>\n",
       "      <td>56.6</td>\n",
       "      <td>41.1</td>\n",
       "      <td>16.2</td>\n",
       "      <td>...</td>\n",
       "      <td>26.9</td>\n",
       "      <td>56.3</td>\n",
       "      <td>40.0</td>\n",
       "      <td>38.2</td>\n",
       "      <td>29.0</td>\n",
       "      <td>71.5</td>\n",
       "      <td>7.7</td>\n",
       "      <td>2ND</td>\n",
       "      <td>1.0</td>\n",
       "      <td>2017</td>\n",
       "    </tr>\n",
       "    <tr>\n",
       "      <th>...</th>\n",
       "      <td>...</td>\n",
       "      <td>...</td>\n",
       "      <td>...</td>\n",
       "      <td>...</td>\n",
       "      <td>...</td>\n",
       "      <td>...</td>\n",
       "      <td>...</td>\n",
       "      <td>...</td>\n",
       "      <td>...</td>\n",
       "      <td>...</td>\n",
       "      <td>...</td>\n",
       "      <td>...</td>\n",
       "      <td>...</td>\n",
       "      <td>...</td>\n",
       "      <td>...</td>\n",
       "      <td>...</td>\n",
       "      <td>...</td>\n",
       "      <td>...</td>\n",
       "      <td>...</td>\n",
       "      <td>...</td>\n",
       "      <td>...</td>\n",
       "    </tr>\n",
       "    <tr>\n",
       "      <th>2450</th>\n",
       "      <td>Michigan St.</td>\n",
       "      <td>B10</td>\n",
       "      <td>35</td>\n",
       "      <td>26</td>\n",
       "      <td>111.4</td>\n",
       "      <td>87.8</td>\n",
       "      <td>0.9392</td>\n",
       "      <td>50.6</td>\n",
       "      <td>44.5</td>\n",
       "      <td>20.8</td>\n",
       "      <td>...</td>\n",
       "      <td>32.4</td>\n",
       "      <td>50.4</td>\n",
       "      <td>44.3</td>\n",
       "      <td>34.1</td>\n",
       "      <td>30.1</td>\n",
       "      <td>64.4</td>\n",
       "      <td>6.7</td>\n",
       "      <td>S16</td>\n",
       "      <td>3.0</td>\n",
       "      <td>2013</td>\n",
       "    </tr>\n",
       "    <tr>\n",
       "      <th>2451</th>\n",
       "      <td>Arizona</td>\n",
       "      <td>P12</td>\n",
       "      <td>35</td>\n",
       "      <td>27</td>\n",
       "      <td>114.4</td>\n",
       "      <td>92.2</td>\n",
       "      <td>0.9229</td>\n",
       "      <td>52.5</td>\n",
       "      <td>46.6</td>\n",
       "      <td>19.5</td>\n",
       "      <td>...</td>\n",
       "      <td>32.9</td>\n",
       "      <td>50.6</td>\n",
       "      <td>43.4</td>\n",
       "      <td>37.1</td>\n",
       "      <td>35.8</td>\n",
       "      <td>66.8</td>\n",
       "      <td>4.6</td>\n",
       "      <td>S16</td>\n",
       "      <td>6.0</td>\n",
       "      <td>2013</td>\n",
       "    </tr>\n",
       "    <tr>\n",
       "      <th>2452</th>\n",
       "      <td>Oregon</td>\n",
       "      <td>P12</td>\n",
       "      <td>37</td>\n",
       "      <td>28</td>\n",
       "      <td>104.8</td>\n",
       "      <td>88.6</td>\n",
       "      <td>0.8728</td>\n",
       "      <td>49.3</td>\n",
       "      <td>46.4</td>\n",
       "      <td>21.4</td>\n",
       "      <td>...</td>\n",
       "      <td>33.3</td>\n",
       "      <td>49.1</td>\n",
       "      <td>44.9</td>\n",
       "      <td>33.3</td>\n",
       "      <td>33.4</td>\n",
       "      <td>69.2</td>\n",
       "      <td>2.9</td>\n",
       "      <td>S16</td>\n",
       "      <td>12.0</td>\n",
       "      <td>2013</td>\n",
       "    </tr>\n",
       "    <tr>\n",
       "      <th>2453</th>\n",
       "      <td>La Salle</td>\n",
       "      <td>A10</td>\n",
       "      <td>34</td>\n",
       "      <td>24</td>\n",
       "      <td>112.0</td>\n",
       "      <td>96.2</td>\n",
       "      <td>0.8516</td>\n",
       "      <td>51.9</td>\n",
       "      <td>49.3</td>\n",
       "      <td>17.1</td>\n",
       "      <td>...</td>\n",
       "      <td>28.5</td>\n",
       "      <td>49.3</td>\n",
       "      <td>50.6</td>\n",
       "      <td>37.7</td>\n",
       "      <td>30.2</td>\n",
       "      <td>66.0</td>\n",
       "      <td>0.3</td>\n",
       "      <td>S16</td>\n",
       "      <td>13.0</td>\n",
       "      <td>2013</td>\n",
       "    </tr>\n",
       "    <tr>\n",
       "      <th>2454</th>\n",
       "      <td>Florida Gulf Coast</td>\n",
       "      <td>ASun</td>\n",
       "      <td>35</td>\n",
       "      <td>24</td>\n",
       "      <td>103.4</td>\n",
       "      <td>96.3</td>\n",
       "      <td>0.6952</td>\n",
       "      <td>51.6</td>\n",
       "      <td>46.9</td>\n",
       "      <td>21.0</td>\n",
       "      <td>...</td>\n",
       "      <td>32.7</td>\n",
       "      <td>52.3</td>\n",
       "      <td>46.9</td>\n",
       "      <td>33.4</td>\n",
       "      <td>31.3</td>\n",
       "      <td>69.1</td>\n",
       "      <td>-4.0</td>\n",
       "      <td>S16</td>\n",
       "      <td>15.0</td>\n",
       "      <td>2013</td>\n",
       "    </tr>\n",
       "  </tbody>\n",
       "</table>\n",
       "<p>2455 rows × 24 columns</p>\n",
       "</div>"
      ],
      "text/plain": [
       "                    TEAM  CONF   G   W  ADJOE  ADJDE  BARTHAG  EFG_O  EFG_D  \\\n",
       "0         North Carolina   ACC  40  33  123.3   94.9   0.9531   52.6   48.1   \n",
       "1              Wisconsin   B10  40  36  129.1   93.6   0.9758   54.8   47.7   \n",
       "2               Michigan   B10  40  33  114.4   90.4   0.9375   53.9   47.7   \n",
       "3             Texas Tech   B12  38  31  115.2   85.2   0.9696   53.5   43.0   \n",
       "4                Gonzaga   WCC  39  37  117.8   86.3   0.9728   56.6   41.1   \n",
       "...                  ...   ...  ..  ..    ...    ...      ...    ...    ...   \n",
       "2450        Michigan St.   B10  35  26  111.4   87.8   0.9392   50.6   44.5   \n",
       "2451             Arizona   P12  35  27  114.4   92.2   0.9229   52.5   46.6   \n",
       "2452              Oregon   P12  37  28  104.8   88.6   0.8728   49.3   46.4   \n",
       "2453            La Salle   A10  34  24  112.0   96.2   0.8516   51.9   49.3   \n",
       "2454  Florida Gulf Coast  ASun  35  24  103.4   96.3   0.6952   51.6   46.9   \n",
       "\n",
       "       TOR  ...  FTRD  2P_O  2P_D  3P_O  3P_D  ADJ_T   WAB  POSTSEASON  SEED  \\\n",
       "0     15.4  ...  30.4  53.9  44.6  32.7  36.2   71.7   8.6         2ND   1.0   \n",
       "1     12.4  ...  22.4  54.8  44.7  36.5  37.5   59.3  11.3         2ND   1.0   \n",
       "2     14.0  ...  30.0  54.7  46.8  35.2  33.2   65.9   6.9         2ND   3.0   \n",
       "3     17.7  ...  36.6  52.8  41.9  36.5  29.7   67.5   7.0         2ND   3.0   \n",
       "4     16.2  ...  26.9  56.3  40.0  38.2  29.0   71.5   7.7         2ND   1.0   \n",
       "...    ...  ...   ...   ...   ...   ...   ...    ...   ...         ...   ...   \n",
       "2450  20.8  ...  32.4  50.4  44.3  34.1  30.1   64.4   6.7         S16   3.0   \n",
       "2451  19.5  ...  32.9  50.6  43.4  37.1  35.8   66.8   4.6         S16   6.0   \n",
       "2452  21.4  ...  33.3  49.1  44.9  33.3  33.4   69.2   2.9         S16  12.0   \n",
       "2453  17.1  ...  28.5  49.3  50.6  37.7  30.2   66.0   0.3         S16  13.0   \n",
       "2454  21.0  ...  32.7  52.3  46.9  33.4  31.3   69.1  -4.0         S16  15.0   \n",
       "\n",
       "      YEAR  \n",
       "0     2016  \n",
       "1     2015  \n",
       "2     2018  \n",
       "3     2019  \n",
       "4     2017  \n",
       "...    ...  \n",
       "2450  2013  \n",
       "2451  2013  \n",
       "2452  2013  \n",
       "2453  2013  \n",
       "2454  2013  \n",
       "\n",
       "[2455 rows x 24 columns]"
      ]
     },
     "execution_count": 25,
     "metadata": {},
     "output_type": "execute_result"
    }
   ],
   "source": [
    "hoops_df = pd.read_csv('Resources/cbb.csv')\n",
    "hoops_df"
   ]
  },
  {
   "cell_type": "code",
   "execution_count": 26,
   "metadata": {},
   "outputs": [
    {
     "data": {
      "text/html": [
       "<div>\n",
       "<style scoped>\n",
       "    .dataframe tbody tr th:only-of-type {\n",
       "        vertical-align: middle;\n",
       "    }\n",
       "\n",
       "    .dataframe tbody tr th {\n",
       "        vertical-align: top;\n",
       "    }\n",
       "\n",
       "    .dataframe thead th {\n",
       "        text-align: right;\n",
       "    }\n",
       "</style>\n",
       "<table border=\"1\" class=\"dataframe\">\n",
       "  <thead>\n",
       "    <tr style=\"text-align: right;\">\n",
       "      <th></th>\n",
       "      <th>W</th>\n",
       "      <th>ADJOE</th>\n",
       "      <th>ADJDE</th>\n",
       "      <th>BARTHAG</th>\n",
       "      <th>EFG_O</th>\n",
       "      <th>EFG_D</th>\n",
       "      <th>TOR</th>\n",
       "      <th>TORD</th>\n",
       "      <th>ORB</th>\n",
       "      <th>DRB</th>\n",
       "      <th>FTR</th>\n",
       "      <th>FTRD</th>\n",
       "      <th>2P_O</th>\n",
       "      <th>2P_D</th>\n",
       "      <th>3P_O</th>\n",
       "      <th>3P_D</th>\n",
       "      <th>ADJ_T</th>\n",
       "      <th>WAB</th>\n",
       "      <th>POSTSEASON</th>\n",
       "    </tr>\n",
       "  </thead>\n",
       "  <tbody>\n",
       "    <tr>\n",
       "      <th>0</th>\n",
       "      <td>33</td>\n",
       "      <td>123.3</td>\n",
       "      <td>94.9</td>\n",
       "      <td>0.9531</td>\n",
       "      <td>52.6</td>\n",
       "      <td>48.1</td>\n",
       "      <td>15.4</td>\n",
       "      <td>18.2</td>\n",
       "      <td>40.7</td>\n",
       "      <td>30.0</td>\n",
       "      <td>32.3</td>\n",
       "      <td>30.4</td>\n",
       "      <td>53.9</td>\n",
       "      <td>44.6</td>\n",
       "      <td>32.7</td>\n",
       "      <td>36.2</td>\n",
       "      <td>71.7</td>\n",
       "      <td>8.6</td>\n",
       "      <td>2ND</td>\n",
       "    </tr>\n",
       "    <tr>\n",
       "      <th>1</th>\n",
       "      <td>36</td>\n",
       "      <td>129.1</td>\n",
       "      <td>93.6</td>\n",
       "      <td>0.9758</td>\n",
       "      <td>54.8</td>\n",
       "      <td>47.7</td>\n",
       "      <td>12.4</td>\n",
       "      <td>15.8</td>\n",
       "      <td>32.1</td>\n",
       "      <td>23.7</td>\n",
       "      <td>36.2</td>\n",
       "      <td>22.4</td>\n",
       "      <td>54.8</td>\n",
       "      <td>44.7</td>\n",
       "      <td>36.5</td>\n",
       "      <td>37.5</td>\n",
       "      <td>59.3</td>\n",
       "      <td>11.3</td>\n",
       "      <td>2ND</td>\n",
       "    </tr>\n",
       "    <tr>\n",
       "      <th>2</th>\n",
       "      <td>33</td>\n",
       "      <td>114.4</td>\n",
       "      <td>90.4</td>\n",
       "      <td>0.9375</td>\n",
       "      <td>53.9</td>\n",
       "      <td>47.7</td>\n",
       "      <td>14.0</td>\n",
       "      <td>19.5</td>\n",
       "      <td>25.5</td>\n",
       "      <td>24.9</td>\n",
       "      <td>30.7</td>\n",
       "      <td>30.0</td>\n",
       "      <td>54.7</td>\n",
       "      <td>46.8</td>\n",
       "      <td>35.2</td>\n",
       "      <td>33.2</td>\n",
       "      <td>65.9</td>\n",
       "      <td>6.9</td>\n",
       "      <td>2ND</td>\n",
       "    </tr>\n",
       "    <tr>\n",
       "      <th>3</th>\n",
       "      <td>31</td>\n",
       "      <td>115.2</td>\n",
       "      <td>85.2</td>\n",
       "      <td>0.9696</td>\n",
       "      <td>53.5</td>\n",
       "      <td>43.0</td>\n",
       "      <td>17.7</td>\n",
       "      <td>22.8</td>\n",
       "      <td>27.4</td>\n",
       "      <td>28.7</td>\n",
       "      <td>32.9</td>\n",
       "      <td>36.6</td>\n",
       "      <td>52.8</td>\n",
       "      <td>41.9</td>\n",
       "      <td>36.5</td>\n",
       "      <td>29.7</td>\n",
       "      <td>67.5</td>\n",
       "      <td>7.0</td>\n",
       "      <td>2ND</td>\n",
       "    </tr>\n",
       "    <tr>\n",
       "      <th>4</th>\n",
       "      <td>37</td>\n",
       "      <td>117.8</td>\n",
       "      <td>86.3</td>\n",
       "      <td>0.9728</td>\n",
       "      <td>56.6</td>\n",
       "      <td>41.1</td>\n",
       "      <td>16.2</td>\n",
       "      <td>17.1</td>\n",
       "      <td>30.0</td>\n",
       "      <td>26.2</td>\n",
       "      <td>39.0</td>\n",
       "      <td>26.9</td>\n",
       "      <td>56.3</td>\n",
       "      <td>40.0</td>\n",
       "      <td>38.2</td>\n",
       "      <td>29.0</td>\n",
       "      <td>71.5</td>\n",
       "      <td>7.7</td>\n",
       "      <td>2ND</td>\n",
       "    </tr>\n",
       "    <tr>\n",
       "      <th>...</th>\n",
       "      <td>...</td>\n",
       "      <td>...</td>\n",
       "      <td>...</td>\n",
       "      <td>...</td>\n",
       "      <td>...</td>\n",
       "      <td>...</td>\n",
       "      <td>...</td>\n",
       "      <td>...</td>\n",
       "      <td>...</td>\n",
       "      <td>...</td>\n",
       "      <td>...</td>\n",
       "      <td>...</td>\n",
       "      <td>...</td>\n",
       "      <td>...</td>\n",
       "      <td>...</td>\n",
       "      <td>...</td>\n",
       "      <td>...</td>\n",
       "      <td>...</td>\n",
       "      <td>...</td>\n",
       "    </tr>\n",
       "    <tr>\n",
       "      <th>2450</th>\n",
       "      <td>26</td>\n",
       "      <td>111.4</td>\n",
       "      <td>87.8</td>\n",
       "      <td>0.9392</td>\n",
       "      <td>50.6</td>\n",
       "      <td>44.5</td>\n",
       "      <td>20.8</td>\n",
       "      <td>19.2</td>\n",
       "      <td>36.1</td>\n",
       "      <td>27.6</td>\n",
       "      <td>36.6</td>\n",
       "      <td>32.4</td>\n",
       "      <td>50.4</td>\n",
       "      <td>44.3</td>\n",
       "      <td>34.1</td>\n",
       "      <td>30.1</td>\n",
       "      <td>64.4</td>\n",
       "      <td>6.7</td>\n",
       "      <td>S16</td>\n",
       "    </tr>\n",
       "    <tr>\n",
       "      <th>2451</th>\n",
       "      <td>27</td>\n",
       "      <td>114.4</td>\n",
       "      <td>92.2</td>\n",
       "      <td>0.9229</td>\n",
       "      <td>52.5</td>\n",
       "      <td>46.6</td>\n",
       "      <td>19.5</td>\n",
       "      <td>19.8</td>\n",
       "      <td>35.0</td>\n",
       "      <td>26.7</td>\n",
       "      <td>37.4</td>\n",
       "      <td>32.9</td>\n",
       "      <td>50.6</td>\n",
       "      <td>43.4</td>\n",
       "      <td>37.1</td>\n",
       "      <td>35.8</td>\n",
       "      <td>66.8</td>\n",
       "      <td>4.6</td>\n",
       "      <td>S16</td>\n",
       "    </tr>\n",
       "    <tr>\n",
       "      <th>2452</th>\n",
       "      <td>28</td>\n",
       "      <td>104.8</td>\n",
       "      <td>88.6</td>\n",
       "      <td>0.8728</td>\n",
       "      <td>49.3</td>\n",
       "      <td>46.4</td>\n",
       "      <td>21.4</td>\n",
       "      <td>22.0</td>\n",
       "      <td>35.8</td>\n",
       "      <td>27.2</td>\n",
       "      <td>38.4</td>\n",
       "      <td>33.3</td>\n",
       "      <td>49.1</td>\n",
       "      <td>44.9</td>\n",
       "      <td>33.3</td>\n",
       "      <td>33.4</td>\n",
       "      <td>69.2</td>\n",
       "      <td>2.9</td>\n",
       "      <td>S16</td>\n",
       "    </tr>\n",
       "    <tr>\n",
       "      <th>2453</th>\n",
       "      <td>24</td>\n",
       "      <td>112.0</td>\n",
       "      <td>96.2</td>\n",
       "      <td>0.8516</td>\n",
       "      <td>51.9</td>\n",
       "      <td>49.3</td>\n",
       "      <td>17.1</td>\n",
       "      <td>21.3</td>\n",
       "      <td>29.0</td>\n",
       "      <td>34.2</td>\n",
       "      <td>31.3</td>\n",
       "      <td>28.5</td>\n",
       "      <td>49.3</td>\n",
       "      <td>50.6</td>\n",
       "      <td>37.7</td>\n",
       "      <td>30.2</td>\n",
       "      <td>66.0</td>\n",
       "      <td>0.3</td>\n",
       "      <td>S16</td>\n",
       "    </tr>\n",
       "    <tr>\n",
       "      <th>2454</th>\n",
       "      <td>24</td>\n",
       "      <td>103.4</td>\n",
       "      <td>96.3</td>\n",
       "      <td>0.6952</td>\n",
       "      <td>51.6</td>\n",
       "      <td>46.9</td>\n",
       "      <td>21.0</td>\n",
       "      <td>22.1</td>\n",
       "      <td>32.5</td>\n",
       "      <td>32.8</td>\n",
       "      <td>35.2</td>\n",
       "      <td>32.7</td>\n",
       "      <td>52.3</td>\n",
       "      <td>46.9</td>\n",
       "      <td>33.4</td>\n",
       "      <td>31.3</td>\n",
       "      <td>69.1</td>\n",
       "      <td>-4.0</td>\n",
       "      <td>S16</td>\n",
       "    </tr>\n",
       "  </tbody>\n",
       "</table>\n",
       "<p>2455 rows × 19 columns</p>\n",
       "</div>"
      ],
      "text/plain": [
       "       W  ADJOE  ADJDE  BARTHAG  EFG_O  EFG_D   TOR  TORD   ORB   DRB   FTR  \\\n",
       "0     33  123.3   94.9   0.9531   52.6   48.1  15.4  18.2  40.7  30.0  32.3   \n",
       "1     36  129.1   93.6   0.9758   54.8   47.7  12.4  15.8  32.1  23.7  36.2   \n",
       "2     33  114.4   90.4   0.9375   53.9   47.7  14.0  19.5  25.5  24.9  30.7   \n",
       "3     31  115.2   85.2   0.9696   53.5   43.0  17.7  22.8  27.4  28.7  32.9   \n",
       "4     37  117.8   86.3   0.9728   56.6   41.1  16.2  17.1  30.0  26.2  39.0   \n",
       "...   ..    ...    ...      ...    ...    ...   ...   ...   ...   ...   ...   \n",
       "2450  26  111.4   87.8   0.9392   50.6   44.5  20.8  19.2  36.1  27.6  36.6   \n",
       "2451  27  114.4   92.2   0.9229   52.5   46.6  19.5  19.8  35.0  26.7  37.4   \n",
       "2452  28  104.8   88.6   0.8728   49.3   46.4  21.4  22.0  35.8  27.2  38.4   \n",
       "2453  24  112.0   96.2   0.8516   51.9   49.3  17.1  21.3  29.0  34.2  31.3   \n",
       "2454  24  103.4   96.3   0.6952   51.6   46.9  21.0  22.1  32.5  32.8  35.2   \n",
       "\n",
       "      FTRD  2P_O  2P_D  3P_O  3P_D  ADJ_T   WAB POSTSEASON  \n",
       "0     30.4  53.9  44.6  32.7  36.2   71.7   8.6        2ND  \n",
       "1     22.4  54.8  44.7  36.5  37.5   59.3  11.3        2ND  \n",
       "2     30.0  54.7  46.8  35.2  33.2   65.9   6.9        2ND  \n",
       "3     36.6  52.8  41.9  36.5  29.7   67.5   7.0        2ND  \n",
       "4     26.9  56.3  40.0  38.2  29.0   71.5   7.7        2ND  \n",
       "...    ...   ...   ...   ...   ...    ...   ...        ...  \n",
       "2450  32.4  50.4  44.3  34.1  30.1   64.4   6.7        S16  \n",
       "2451  32.9  50.6  43.4  37.1  35.8   66.8   4.6        S16  \n",
       "2452  33.3  49.1  44.9  33.3  33.4   69.2   2.9        S16  \n",
       "2453  28.5  49.3  50.6  37.7  30.2   66.0   0.3        S16  \n",
       "2454  32.7  52.3  46.9  33.4  31.3   69.1  -4.0        S16  \n",
       "\n",
       "[2455 rows x 19 columns]"
      ]
     },
     "execution_count": 26,
     "metadata": {},
     "output_type": "execute_result"
    }
   ],
   "source": [
    "hoops_df = hoops_df.drop([\"G\",\"TEAM\",\"SEED\",\"CONF\",\"YEAR\"], axis=1)\n",
    "hoops_df"
   ]
  },
  {
   "cell_type": "code",
   "execution_count": 27,
   "metadata": {},
   "outputs": [],
   "source": [
    "hoops_df = hoops_df.dropna(subset=['POSTSEASON'])"
   ]
  },
  {
   "cell_type": "code",
   "execution_count": 28,
   "metadata": {},
   "outputs": [
    {
     "data": {
      "text/plain": [
       "R64          224\n",
       "R32          112\n",
       "S16           56\n",
       "E8            28\n",
       "R68           28\n",
       "F4            14\n",
       "2ND            7\n",
       "Champions      7\n",
       "Name: POSTSEASON, dtype: int64"
      ]
     },
     "execution_count": 28,
     "metadata": {},
     "output_type": "execute_result"
    }
   ],
   "source": [
    "class_count = hoops_df['POSTSEASON'].value_counts()\n",
    "class_count"
   ]
  },
  {
   "cell_type": "code",
   "execution_count": 29,
   "metadata": {},
   "outputs": [],
   "source": [
    "classifications_to_replace = list(class_count.index)"
   ]
  },
  {
   "cell_type": "code",
   "execution_count": 30,
   "metadata": {},
   "outputs": [
    {
     "name": "stderr",
     "output_type": "stream",
     "text": [
      "/Users/tommysmacbook/opt/anaconda3/envs/mlenv/lib/python3.7/site-packages/ipykernel_launcher.py:5: SettingWithCopyWarning: \n",
      "A value is trying to be set on a copy of a slice from a DataFrame.\n",
      "Try using .loc[row_indexer,col_indexer] = value instead\n",
      "\n",
      "See the caveats in the documentation: https://pandas.pydata.org/pandas-docs/stable/user_guide/indexing.html#returning-a-view-versus-a-copy\n",
      "  \"\"\"\n",
      "/Users/tommysmacbook/opt/anaconda3/envs/mlenv/lib/python3.7/site-packages/ipykernel_launcher.py:7: SettingWithCopyWarning: \n",
      "A value is trying to be set on a copy of a slice from a DataFrame.\n",
      "Try using .loc[row_indexer,col_indexer] = value instead\n",
      "\n",
      "See the caveats in the documentation: https://pandas.pydata.org/pandas-docs/stable/user_guide/indexing.html#returning-a-view-versus-a-copy\n",
      "  import sys\n",
      "/Users/tommysmacbook/opt/anaconda3/envs/mlenv/lib/python3.7/site-packages/ipykernel_launcher.py:9: SettingWithCopyWarning: \n",
      "A value is trying to be set on a copy of a slice from a DataFrame.\n",
      "Try using .loc[row_indexer,col_indexer] = value instead\n",
      "\n",
      "See the caveats in the documentation: https://pandas.pydata.org/pandas-docs/stable/user_guide/indexing.html#returning-a-view-versus-a-copy\n",
      "  if __name__ == \"__main__\":\n",
      "/Users/tommysmacbook/opt/anaconda3/envs/mlenv/lib/python3.7/site-packages/ipykernel_launcher.py:11: SettingWithCopyWarning: \n",
      "A value is trying to be set on a copy of a slice from a DataFrame.\n",
      "Try using .loc[row_indexer,col_indexer] = value instead\n",
      "\n",
      "See the caveats in the documentation: https://pandas.pydata.org/pandas-docs/stable/user_guide/indexing.html#returning-a-view-versus-a-copy\n",
      "  # This is added back by InteractiveShellApp.init_path()\n",
      "/Users/tommysmacbook/opt/anaconda3/envs/mlenv/lib/python3.7/site-packages/ipykernel_launcher.py:3: SettingWithCopyWarning: \n",
      "A value is trying to be set on a copy of a slice from a DataFrame.\n",
      "Try using .loc[row_indexer,col_indexer] = value instead\n",
      "\n",
      "See the caveats in the documentation: https://pandas.pydata.org/pandas-docs/stable/user_guide/indexing.html#returning-a-view-versus-a-copy\n",
      "  This is separate from the ipykernel package so we can avoid doing imports until\n",
      "/Users/tommysmacbook/opt/anaconda3/envs/mlenv/lib/python3.7/site-packages/ipykernel_launcher.py:13: SettingWithCopyWarning: \n",
      "A value is trying to be set on a copy of a slice from a DataFrame.\n",
      "Try using .loc[row_indexer,col_indexer] = value instead\n",
      "\n",
      "See the caveats in the documentation: https://pandas.pydata.org/pandas-docs/stable/user_guide/indexing.html#returning-a-view-versus-a-copy\n",
      "  del sys.path[0]\n",
      "/Users/tommysmacbook/opt/anaconda3/envs/mlenv/lib/python3.7/site-packages/ipykernel_launcher.py:15: SettingWithCopyWarning: \n",
      "A value is trying to be set on a copy of a slice from a DataFrame.\n",
      "Try using .loc[row_indexer,col_indexer] = value instead\n",
      "\n",
      "See the caveats in the documentation: https://pandas.pydata.org/pandas-docs/stable/user_guide/indexing.html#returning-a-view-versus-a-copy\n",
      "  from ipykernel import kernelapp as app\n",
      "/Users/tommysmacbook/opt/anaconda3/envs/mlenv/lib/python3.7/site-packages/ipykernel_launcher.py:17: SettingWithCopyWarning: \n",
      "A value is trying to be set on a copy of a slice from a DataFrame.\n",
      "Try using .loc[row_indexer,col_indexer] = value instead\n",
      "\n",
      "See the caveats in the documentation: https://pandas.pydata.org/pandas-docs/stable/user_guide/indexing.html#returning-a-view-versus-a-copy\n",
      "  app.launch_new_instance()\n"
     ]
    },
    {
     "data": {
      "text/plain": [
       "7    224\n",
       "6    112\n",
       "5     56\n",
       "4     28\n",
       "8     28\n",
       "3     14\n",
       "2      7\n",
       "1      7\n",
       "Name: POSTSEASON, dtype: int64"
      ]
     },
     "execution_count": 30,
     "metadata": {},
     "output_type": "execute_result"
    }
   ],
   "source": [
    "for cls in classifications_to_replace:\n",
    "    if cls == \"R68\":\n",
    "        hoops_df['POSTSEASON'] = hoops_df['POSTSEASON'].replace(cls,\"8\")\n",
    "    elif cls == \"R64\":\n",
    "        hoops_df['POSTSEASON'] = hoops_df['POSTSEASON'].replace(cls,\"7\")\n",
    "    elif cls == \"R32\":\n",
    "        hoops_df['POSTSEASON'] = hoops_df['POSTSEASON'].replace(cls,\"6\")\n",
    "    elif cls == \"S16\":\n",
    "        hoops_df['POSTSEASON'] = hoops_df['POSTSEASON'].replace(cls,\"5\")\n",
    "    elif cls == \"E8\":\n",
    "        hoops_df['POSTSEASON'] = hoops_df['POSTSEASON'].replace(cls,\"4\")\n",
    "    elif cls == \"F4\":\n",
    "        hoops_df['POSTSEASON'] = hoops_df['POSTSEASON'].replace(cls,\"3\")\n",
    "    elif cls == \"2ND\":\n",
    "        hoops_df['POSTSEASON'] = hoops_df['POSTSEASON'].replace(cls,\"2\")\n",
    "    elif cls == \"Champions\":\n",
    "        hoops_df['POSTSEASON'] = hoops_df['POSTSEASON'].replace(cls,\"1\")\n",
    "\n",
    "hoops_df['POSTSEASON'].value_counts()"
   ]
  },
  {
   "cell_type": "code",
   "execution_count": 31,
   "metadata": {},
   "outputs": [
    {
     "name": "stderr",
     "output_type": "stream",
     "text": [
      "/Users/tommysmacbook/opt/anaconda3/envs/mlenv/lib/python3.7/site-packages/ipykernel_launcher.py:1: SettingWithCopyWarning: \n",
      "A value is trying to be set on a copy of a slice from a DataFrame.\n",
      "Try using .loc[row_indexer,col_indexer] = value instead\n",
      "\n",
      "See the caveats in the documentation: https://pandas.pydata.org/pandas-docs/stable/user_guide/indexing.html#returning-a-view-versus-a-copy\n",
      "  \"\"\"Entry point for launching an IPython kernel.\n"
     ]
    }
   ],
   "source": [
    "hoops_df['POSTSEASON'] = pd.to_numeric(hoops_df['POSTSEASON'], downcast='signed')"
   ]
  },
  {
   "cell_type": "code",
   "execution_count": 32,
   "metadata": {},
   "outputs": [
    {
     "data": {
      "text/plain": [
       "W               int64\n",
       "ADJOE         float64\n",
       "ADJDE         float64\n",
       "BARTHAG       float64\n",
       "EFG_O         float64\n",
       "EFG_D         float64\n",
       "TOR           float64\n",
       "TORD          float64\n",
       "ORB           float64\n",
       "DRB           float64\n",
       "FTR           float64\n",
       "FTRD          float64\n",
       "2P_O          float64\n",
       "2P_D          float64\n",
       "3P_O          float64\n",
       "3P_D          float64\n",
       "ADJ_T         float64\n",
       "WAB           float64\n",
       "POSTSEASON       int8\n",
       "dtype: object"
      ]
     },
     "execution_count": 32,
     "metadata": {},
     "output_type": "execute_result"
    }
   ],
   "source": [
    "hoops_df.dtypes"
   ]
  },
  {
   "cell_type": "code",
   "execution_count": 33,
   "metadata": {},
   "outputs": [
    {
     "data": {
      "text/html": [
       "<div>\n",
       "<style scoped>\n",
       "    .dataframe tbody tr th:only-of-type {\n",
       "        vertical-align: middle;\n",
       "    }\n",
       "\n",
       "    .dataframe tbody tr th {\n",
       "        vertical-align: top;\n",
       "    }\n",
       "\n",
       "    .dataframe thead th {\n",
       "        text-align: right;\n",
       "    }\n",
       "</style>\n",
       "<table border=\"1\" class=\"dataframe\">\n",
       "  <thead>\n",
       "    <tr style=\"text-align: right;\">\n",
       "      <th></th>\n",
       "      <th>W</th>\n",
       "      <th>ADJOE</th>\n",
       "      <th>ADJDE</th>\n",
       "      <th>BARTHAG</th>\n",
       "      <th>EFG_O</th>\n",
       "      <th>EFG_D</th>\n",
       "      <th>TOR</th>\n",
       "      <th>TORD</th>\n",
       "      <th>ORB</th>\n",
       "      <th>DRB</th>\n",
       "      <th>FTR</th>\n",
       "      <th>FTRD</th>\n",
       "      <th>2P_O</th>\n",
       "      <th>2P_D</th>\n",
       "      <th>3P_O</th>\n",
       "      <th>3P_D</th>\n",
       "      <th>ADJ_T</th>\n",
       "      <th>WAB</th>\n",
       "      <th>POSTSEASON</th>\n",
       "    </tr>\n",
       "  </thead>\n",
       "  <tbody>\n",
       "    <tr>\n",
       "      <th>0</th>\n",
       "      <td>33</td>\n",
       "      <td>123.3</td>\n",
       "      <td>94.9</td>\n",
       "      <td>0.9531</td>\n",
       "      <td>52.6</td>\n",
       "      <td>48.1</td>\n",
       "      <td>15.4</td>\n",
       "      <td>18.2</td>\n",
       "      <td>40.7</td>\n",
       "      <td>30.0</td>\n",
       "      <td>32.3</td>\n",
       "      <td>30.4</td>\n",
       "      <td>53.9</td>\n",
       "      <td>44.6</td>\n",
       "      <td>32.7</td>\n",
       "      <td>36.2</td>\n",
       "      <td>71.7</td>\n",
       "      <td>8.6</td>\n",
       "      <td>2</td>\n",
       "    </tr>\n",
       "    <tr>\n",
       "      <th>1</th>\n",
       "      <td>36</td>\n",
       "      <td>129.1</td>\n",
       "      <td>93.6</td>\n",
       "      <td>0.9758</td>\n",
       "      <td>54.8</td>\n",
       "      <td>47.7</td>\n",
       "      <td>12.4</td>\n",
       "      <td>15.8</td>\n",
       "      <td>32.1</td>\n",
       "      <td>23.7</td>\n",
       "      <td>36.2</td>\n",
       "      <td>22.4</td>\n",
       "      <td>54.8</td>\n",
       "      <td>44.7</td>\n",
       "      <td>36.5</td>\n",
       "      <td>37.5</td>\n",
       "      <td>59.3</td>\n",
       "      <td>11.3</td>\n",
       "      <td>2</td>\n",
       "    </tr>\n",
       "    <tr>\n",
       "      <th>2</th>\n",
       "      <td>33</td>\n",
       "      <td>114.4</td>\n",
       "      <td>90.4</td>\n",
       "      <td>0.9375</td>\n",
       "      <td>53.9</td>\n",
       "      <td>47.7</td>\n",
       "      <td>14.0</td>\n",
       "      <td>19.5</td>\n",
       "      <td>25.5</td>\n",
       "      <td>24.9</td>\n",
       "      <td>30.7</td>\n",
       "      <td>30.0</td>\n",
       "      <td>54.7</td>\n",
       "      <td>46.8</td>\n",
       "      <td>35.2</td>\n",
       "      <td>33.2</td>\n",
       "      <td>65.9</td>\n",
       "      <td>6.9</td>\n",
       "      <td>2</td>\n",
       "    </tr>\n",
       "    <tr>\n",
       "      <th>3</th>\n",
       "      <td>31</td>\n",
       "      <td>115.2</td>\n",
       "      <td>85.2</td>\n",
       "      <td>0.9696</td>\n",
       "      <td>53.5</td>\n",
       "      <td>43.0</td>\n",
       "      <td>17.7</td>\n",
       "      <td>22.8</td>\n",
       "      <td>27.4</td>\n",
       "      <td>28.7</td>\n",
       "      <td>32.9</td>\n",
       "      <td>36.6</td>\n",
       "      <td>52.8</td>\n",
       "      <td>41.9</td>\n",
       "      <td>36.5</td>\n",
       "      <td>29.7</td>\n",
       "      <td>67.5</td>\n",
       "      <td>7.0</td>\n",
       "      <td>2</td>\n",
       "    </tr>\n",
       "    <tr>\n",
       "      <th>4</th>\n",
       "      <td>37</td>\n",
       "      <td>117.8</td>\n",
       "      <td>86.3</td>\n",
       "      <td>0.9728</td>\n",
       "      <td>56.6</td>\n",
       "      <td>41.1</td>\n",
       "      <td>16.2</td>\n",
       "      <td>17.1</td>\n",
       "      <td>30.0</td>\n",
       "      <td>26.2</td>\n",
       "      <td>39.0</td>\n",
       "      <td>26.9</td>\n",
       "      <td>56.3</td>\n",
       "      <td>40.0</td>\n",
       "      <td>38.2</td>\n",
       "      <td>29.0</td>\n",
       "      <td>71.5</td>\n",
       "      <td>7.7</td>\n",
       "      <td>2</td>\n",
       "    </tr>\n",
       "    <tr>\n",
       "      <th>...</th>\n",
       "      <td>...</td>\n",
       "      <td>...</td>\n",
       "      <td>...</td>\n",
       "      <td>...</td>\n",
       "      <td>...</td>\n",
       "      <td>...</td>\n",
       "      <td>...</td>\n",
       "      <td>...</td>\n",
       "      <td>...</td>\n",
       "      <td>...</td>\n",
       "      <td>...</td>\n",
       "      <td>...</td>\n",
       "      <td>...</td>\n",
       "      <td>...</td>\n",
       "      <td>...</td>\n",
       "      <td>...</td>\n",
       "      <td>...</td>\n",
       "      <td>...</td>\n",
       "      <td>...</td>\n",
       "    </tr>\n",
       "    <tr>\n",
       "      <th>2450</th>\n",
       "      <td>26</td>\n",
       "      <td>111.4</td>\n",
       "      <td>87.8</td>\n",
       "      <td>0.9392</td>\n",
       "      <td>50.6</td>\n",
       "      <td>44.5</td>\n",
       "      <td>20.8</td>\n",
       "      <td>19.2</td>\n",
       "      <td>36.1</td>\n",
       "      <td>27.6</td>\n",
       "      <td>36.6</td>\n",
       "      <td>32.4</td>\n",
       "      <td>50.4</td>\n",
       "      <td>44.3</td>\n",
       "      <td>34.1</td>\n",
       "      <td>30.1</td>\n",
       "      <td>64.4</td>\n",
       "      <td>6.7</td>\n",
       "      <td>5</td>\n",
       "    </tr>\n",
       "    <tr>\n",
       "      <th>2451</th>\n",
       "      <td>27</td>\n",
       "      <td>114.4</td>\n",
       "      <td>92.2</td>\n",
       "      <td>0.9229</td>\n",
       "      <td>52.5</td>\n",
       "      <td>46.6</td>\n",
       "      <td>19.5</td>\n",
       "      <td>19.8</td>\n",
       "      <td>35.0</td>\n",
       "      <td>26.7</td>\n",
       "      <td>37.4</td>\n",
       "      <td>32.9</td>\n",
       "      <td>50.6</td>\n",
       "      <td>43.4</td>\n",
       "      <td>37.1</td>\n",
       "      <td>35.8</td>\n",
       "      <td>66.8</td>\n",
       "      <td>4.6</td>\n",
       "      <td>5</td>\n",
       "    </tr>\n",
       "    <tr>\n",
       "      <th>2452</th>\n",
       "      <td>28</td>\n",
       "      <td>104.8</td>\n",
       "      <td>88.6</td>\n",
       "      <td>0.8728</td>\n",
       "      <td>49.3</td>\n",
       "      <td>46.4</td>\n",
       "      <td>21.4</td>\n",
       "      <td>22.0</td>\n",
       "      <td>35.8</td>\n",
       "      <td>27.2</td>\n",
       "      <td>38.4</td>\n",
       "      <td>33.3</td>\n",
       "      <td>49.1</td>\n",
       "      <td>44.9</td>\n",
       "      <td>33.3</td>\n",
       "      <td>33.4</td>\n",
       "      <td>69.2</td>\n",
       "      <td>2.9</td>\n",
       "      <td>5</td>\n",
       "    </tr>\n",
       "    <tr>\n",
       "      <th>2453</th>\n",
       "      <td>24</td>\n",
       "      <td>112.0</td>\n",
       "      <td>96.2</td>\n",
       "      <td>0.8516</td>\n",
       "      <td>51.9</td>\n",
       "      <td>49.3</td>\n",
       "      <td>17.1</td>\n",
       "      <td>21.3</td>\n",
       "      <td>29.0</td>\n",
       "      <td>34.2</td>\n",
       "      <td>31.3</td>\n",
       "      <td>28.5</td>\n",
       "      <td>49.3</td>\n",
       "      <td>50.6</td>\n",
       "      <td>37.7</td>\n",
       "      <td>30.2</td>\n",
       "      <td>66.0</td>\n",
       "      <td>0.3</td>\n",
       "      <td>5</td>\n",
       "    </tr>\n",
       "    <tr>\n",
       "      <th>2454</th>\n",
       "      <td>24</td>\n",
       "      <td>103.4</td>\n",
       "      <td>96.3</td>\n",
       "      <td>0.6952</td>\n",
       "      <td>51.6</td>\n",
       "      <td>46.9</td>\n",
       "      <td>21.0</td>\n",
       "      <td>22.1</td>\n",
       "      <td>32.5</td>\n",
       "      <td>32.8</td>\n",
       "      <td>35.2</td>\n",
       "      <td>32.7</td>\n",
       "      <td>52.3</td>\n",
       "      <td>46.9</td>\n",
       "      <td>33.4</td>\n",
       "      <td>31.3</td>\n",
       "      <td>69.1</td>\n",
       "      <td>-4.0</td>\n",
       "      <td>5</td>\n",
       "    </tr>\n",
       "  </tbody>\n",
       "</table>\n",
       "<p>476 rows × 19 columns</p>\n",
       "</div>"
      ],
      "text/plain": [
       "       W  ADJOE  ADJDE  BARTHAG  EFG_O  EFG_D   TOR  TORD   ORB   DRB   FTR  \\\n",
       "0     33  123.3   94.9   0.9531   52.6   48.1  15.4  18.2  40.7  30.0  32.3   \n",
       "1     36  129.1   93.6   0.9758   54.8   47.7  12.4  15.8  32.1  23.7  36.2   \n",
       "2     33  114.4   90.4   0.9375   53.9   47.7  14.0  19.5  25.5  24.9  30.7   \n",
       "3     31  115.2   85.2   0.9696   53.5   43.0  17.7  22.8  27.4  28.7  32.9   \n",
       "4     37  117.8   86.3   0.9728   56.6   41.1  16.2  17.1  30.0  26.2  39.0   \n",
       "...   ..    ...    ...      ...    ...    ...   ...   ...   ...   ...   ...   \n",
       "2450  26  111.4   87.8   0.9392   50.6   44.5  20.8  19.2  36.1  27.6  36.6   \n",
       "2451  27  114.4   92.2   0.9229   52.5   46.6  19.5  19.8  35.0  26.7  37.4   \n",
       "2452  28  104.8   88.6   0.8728   49.3   46.4  21.4  22.0  35.8  27.2  38.4   \n",
       "2453  24  112.0   96.2   0.8516   51.9   49.3  17.1  21.3  29.0  34.2  31.3   \n",
       "2454  24  103.4   96.3   0.6952   51.6   46.9  21.0  22.1  32.5  32.8  35.2   \n",
       "\n",
       "      FTRD  2P_O  2P_D  3P_O  3P_D  ADJ_T   WAB  POSTSEASON  \n",
       "0     30.4  53.9  44.6  32.7  36.2   71.7   8.6           2  \n",
       "1     22.4  54.8  44.7  36.5  37.5   59.3  11.3           2  \n",
       "2     30.0  54.7  46.8  35.2  33.2   65.9   6.9           2  \n",
       "3     36.6  52.8  41.9  36.5  29.7   67.5   7.0           2  \n",
       "4     26.9  56.3  40.0  38.2  29.0   71.5   7.7           2  \n",
       "...    ...   ...   ...   ...   ...    ...   ...         ...  \n",
       "2450  32.4  50.4  44.3  34.1  30.1   64.4   6.7           5  \n",
       "2451  32.9  50.6  43.4  37.1  35.8   66.8   4.6           5  \n",
       "2452  33.3  49.1  44.9  33.3  33.4   69.2   2.9           5  \n",
       "2453  28.5  49.3  50.6  37.7  30.2   66.0   0.3           5  \n",
       "2454  32.7  52.3  46.9  33.4  31.3   69.1  -4.0           5  \n",
       "\n",
       "[476 rows x 19 columns]"
      ]
     },
     "execution_count": 33,
     "metadata": {},
     "output_type": "execute_result"
    }
   ],
   "source": [
    "hoops_df"
   ]
  },
  {
   "cell_type": "code",
   "execution_count": 34,
   "metadata": {},
   "outputs": [
    {
     "name": "stderr",
     "output_type": "stream",
     "text": [
      "/Users/tommysmacbook/opt/anaconda3/envs/mlenv/lib/python3.7/site-packages/ipykernel_launcher.py:2: FutureWarning: In a future version of pandas all arguments of DataFrame.drop except for the argument 'labels' will be keyword-only\n",
      "  \n"
     ]
    }
   ],
   "source": [
    "y = hoops_df['POSTSEASON'].values\n",
    "X = hoops_df.drop(['POSTSEASON'], 1).values\n",
    "\n",
    "X_train, X_test, y_train, y_test = train_test_split(X, y, random_state=47)"
   ]
  },
  {
   "cell_type": "code",
   "execution_count": 6,
   "metadata": {},
   "outputs": [
    {
     "data": {
      "text/plain": [
       "array(['2ND', '2ND', '2ND', ..., 'S16', 'S16', 'S16'], dtype=object)"
      ]
     },
     "execution_count": 6,
     "metadata": {},
     "output_type": "execute_result"
    }
   ],
   "source": [
    "y"
   ]
  },
  {
   "cell_type": "code",
   "execution_count": 35,
   "metadata": {},
   "outputs": [],
   "source": [
    "scaler = StandardScaler()\n",
    "\n",
    "# Fit the StandardScaler\n",
    "X_scaler = scaler.fit(X_train)\n",
    "\n",
    "# Scale the data\n",
    "X_train_scaled = X_scaler.transform(X_train)\n",
    "X_test_scaled = X_scaler.transform(X_test)"
   ]
  },
  {
   "cell_type": "code",
   "execution_count": 36,
   "metadata": {},
   "outputs": [
    {
     "name": "stdout",
     "output_type": "stream",
     "text": [
      "k: 1, Train/Test Score: 1.000/0.395\n",
      "k: 3, Train/Test Score: 0.627/0.361\n",
      "k: 5, Train/Test Score: 0.583/0.521\n",
      "k: 7, Train/Test Score: 0.580/0.462\n",
      "k: 9, Train/Test Score: 0.557/0.437\n",
      "k: 11, Train/Test Score: 0.552/0.437\n",
      "k: 13, Train/Test Score: 0.552/0.437\n",
      "k: 15, Train/Test Score: 0.557/0.445\n",
      "k: 17, Train/Test Score: 0.555/0.437\n",
      "k: 19, Train/Test Score: 0.555/0.420\n"
     ]
    },
    {
     "data": {
      "image/png": "[encoded data removed]",
      "text/plain": [
       "<Figure size 640x480 with 1 Axes>"
      ]
     },
     "metadata": {},
     "output_type": "display_data"
    }
   ],
   "source": [
    "# Loop through different k values to find which has the highest accuracy.\n",
    "# Note: We use only odd numbers because we don't want any ties.\n",
    "train_scores = []\n",
    "test_scores = []\n",
    "for k in range(1, 20, 2):\n",
    "    knn = KNeighborsClassifier(n_neighbors=k)\n",
    "    knn.fit(X_train_scaled, y_train)\n",
    "    train_score = knn.score(X_train_scaled, y_train)\n",
    "    test_score = knn.score(X_test_scaled, y_test)\n",
    "    train_scores.append(train_score)\n",
    "    test_scores.append(test_score)\n",
    "    print(f\"k: {k}, Train/Test Score: {train_score:.3f}/{test_score:.3f}\")\n",
    "    \n",
    "    \n",
    "plt.plot(range(1, 20, 2), train_scores, marker='o')\n",
    "plt.plot(range(1, 20, 2), test_scores, marker=\"x\")\n",
    "plt.xlabel(\"k neighbors\")\n",
    "plt.ylabel(\"Testing accuracy score\")\n",
    "plt.show()"
   ]
  },
  {
   "cell_type": "code",
   "execution_count": 37,
   "metadata": {},
   "outputs": [
    {
     "name": "stdout",
     "output_type": "stream",
     "text": [
      "k=5 Test Acc: 0.521\n"
     ]
    }
   ],
   "source": [
    "knn = KNeighborsClassifier(n_neighbors=5)\n",
    "knn.fit(X_train_scaled, y_train)\n",
    "print('k=5 Test Acc: %.3f' % knn.score(X_test_scaled, y_test))"
   ]
  },
  {
   "cell_type": "code",
   "execution_count": 38,
   "metadata": {},
   "outputs": [],
   "source": [
    "y_true = y_test\n",
    "y_pred = knn.predict(X_test_scaled)"
   ]
  },
  {
   "cell_type": "code",
   "execution_count": 39,
   "metadata": {},
   "outputs": [
    {
     "data": {
      "text/plain": [
       "array([[ 1,  0,  1,  0,  0,  1,  0,  0],\n",
       "       [ 0,  0,  1,  0,  0,  1,  0,  0],\n",
       "       [ 0,  0,  0,  0,  0,  0,  0,  0],\n",
       "       [ 2,  0,  1,  1,  0,  2,  1,  0],\n",
       "       [ 0,  0,  0,  1,  7,  5,  6,  0],\n",
       "       [ 0,  0,  0,  2,  4, 11, 10,  0],\n",
       "       [ 0,  0,  0,  0,  3,  8, 42,  0],\n",
       "       [ 0,  0,  0,  0,  0,  0,  8,  0]])"
      ]
     },
     "execution_count": 39,
     "metadata": {},
     "output_type": "execute_result"
    }
   ],
   "source": [
    "confusion_matrix(y_true, y_pred)"
   ]
  },
  {
   "cell_type": "code",
   "execution_count": 40,
   "metadata": {},
   "outputs": [
    {
     "name": "stdout",
     "output_type": "stream",
     "text": [
      "              precision    recall  f1-score   support\n",
      "\n",
      "           1       0.33      0.33      0.33         3\n",
      "           2       0.00      0.00      0.00         2\n",
      "           3       0.00      0.00      0.00         0\n",
      "           4       0.25      0.14      0.18         7\n",
      "           5       0.50      0.37      0.42        19\n",
      "           6       0.39      0.41      0.40        27\n",
      "           7       0.63      0.79      0.70        53\n",
      "           8       0.00      0.00      0.00         8\n",
      "\n",
      "    accuracy                           0.52       119\n",
      "   macro avg       0.26      0.26      0.25       119\n",
      "weighted avg       0.47      0.52      0.49       119\n",
      "\n"
     ]
    },
    {
     "name": "stderr",
     "output_type": "stream",
     "text": [
      "/Users/tommysmacbook/opt/anaconda3/envs/mlenv/lib/python3.7/site-packages/sklearn/metrics/_classification.py:1318: UndefinedMetricWarning: Precision and F-score are ill-defined and being set to 0.0 in labels with no predicted samples. Use `zero_division` parameter to control this behavior.\n",
      "  _warn_prf(average, modifier, msg_start, len(result))\n",
      "/Users/tommysmacbook/opt/anaconda3/envs/mlenv/lib/python3.7/site-packages/sklearn/metrics/_classification.py:1318: UndefinedMetricWarning: Recall and F-score are ill-defined and being set to 0.0 in labels with no true samples. Use `zero_division` parameter to control this behavior.\n",
      "  _warn_prf(average, modifier, msg_start, len(result))\n",
      "/Users/tommysmacbook/opt/anaconda3/envs/mlenv/lib/python3.7/site-packages/sklearn/metrics/_classification.py:1318: UndefinedMetricWarning: Precision and F-score are ill-defined and being set to 0.0 in labels with no predicted samples. Use `zero_division` parameter to control this behavior.\n",
      "  _warn_prf(average, modifier, msg_start, len(result))\n",
      "/Users/tommysmacbook/opt/anaconda3/envs/mlenv/lib/python3.7/site-packages/sklearn/metrics/_classification.py:1318: UndefinedMetricWarning: Recall and F-score are ill-defined and being set to 0.0 in labels with no true samples. Use `zero_division` parameter to control this behavior.\n",
      "  _warn_prf(average, modifier, msg_start, len(result))\n",
      "/Users/tommysmacbook/opt/anaconda3/envs/mlenv/lib/python3.7/site-packages/sklearn/metrics/_classification.py:1318: UndefinedMetricWarning: Precision and F-score are ill-defined and being set to 0.0 in labels with no predicted samples. Use `zero_division` parameter to control this behavior.\n",
      "  _warn_prf(average, modifier, msg_start, len(result))\n",
      "/Users/tommysmacbook/opt/anaconda3/envs/mlenv/lib/python3.7/site-packages/sklearn/metrics/_classification.py:1318: UndefinedMetricWarning: Recall and F-score are ill-defined and being set to 0.0 in labels with no true samples. Use `zero_division` parameter to control this behavior.\n",
      "  _warn_prf(average, modifier, msg_start, len(result))\n"
     ]
    }
   ],
   "source": [
    "print(classification_report(y_true, y_pred))"
   ]
  },
  {
   "cell_type": "code",
   "execution_count": 41,
   "metadata": {},
   "outputs": [
    {
     "data": {
      "text/plain": [
       "array([7, 7, 5, 6, 7, 5, 7, 6, 7, 7], dtype=int8)"
      ]
     },
     "execution_count": 41,
     "metadata": {},
     "output_type": "execute_result"
    }
   ],
   "source": [
    "knn.predict(X_test_scaled[0:10])"
   ]
  },
  {
   "cell_type": "code",
   "execution_count": 42,
   "metadata": {},
   "outputs": [
    {
     "data": {
      "text/plain": [
       "array([[0. , 0. , 0. , 0. , 0.2, 0.2, 0.6, 0. ],\n",
       "       [0. , 0. , 0. , 0. , 0. , 0. , 1. , 0. ],\n",
       "       [0. , 0. , 0.2, 0.2, 0.4, 0.2, 0. , 0. ],\n",
       "       [0. , 0. , 0. , 0. , 0. , 0.4, 0.4, 0.2],\n",
       "       [0. , 0. , 0. , 0.2, 0.2, 0.2, 0.4, 0. ],\n",
       "       [0. , 0. , 0.2, 0.2, 0.4, 0.2, 0. , 0. ],\n",
       "       [0. , 0. , 0. , 0. , 0.2, 0.2, 0.6, 0. ],\n",
       "       [0. , 0. , 0. , 0. , 0.4, 0.6, 0. , 0. ],\n",
       "       [0. , 0. , 0. , 0. , 0. , 0.4, 0.6, 0. ],\n",
       "       [0. , 0. , 0. , 0.2, 0. , 0.2, 0.6, 0. ]])"
      ]
     },
     "execution_count": 42,
     "metadata": {},
     "output_type": "execute_result"
    }
   ],
   "source": [
    "knn.predict_proba(X_test_scaled[0:10])"
   ]
  },
  {
   "cell_type": "code",
   "execution_count": 46,
   "metadata": {},
   "outputs": [
    {
     "name": "stdout",
     "output_type": "stream",
     "text": [
      "Training Score: 1.0\n",
      "Testing Score: 0.48739495798319327\n"
     ]
    }
   ],
   "source": [
    "from sklearn.ensemble import RandomForestClassifier\n",
    "clf = RandomForestClassifier(random_state=47, n_estimators=100).fit(X_train_scaled, y_train)\n",
    "print(f'Training Score: {clf.score(X_train_scaled, y_train)}')\n",
    "print(f'Testing Score: {clf.score(X_test_scaled, y_test)}')"
   ]
  },
  {
   "cell_type": "code",
   "execution_count": 47,
   "metadata": {},
   "outputs": [
    {
     "name": "stdout",
     "output_type": "stream",
     "text": [
      "[0.07428531 0.07103723 0.06540783 0.1125905  0.04582739 0.03787091\n",
      " 0.04684374 0.05011972 0.05193264 0.04808381 0.04587994 0.04685405\n",
      " 0.04474699 0.04551387 0.04625783 0.04828418 0.04582793 0.07263614]\n"
     ]
    },
    {
     "data": {
      "image/png": "[encoded data removed]",
      "text/plain": [
       "<Figure size 640x480 with 1 Axes>"
      ]
     },
     "metadata": {},
     "output_type": "display_data"
    }
   ],
   "source": [
    "features = clf.feature_importances_\n",
    "print(features)\n",
    "plt.bar(x = range(len(features)), height=features)\n",
    "plt.show()"
   ]
  },
  {
   "cell_type": "code",
   "execution_count": 48,
   "metadata": {},
   "outputs": [
    {
     "data": {
      "text/plain": [
       "SelectFromModel(estimator=RandomForestClassifier(random_state=47))"
      ]
     },
     "execution_count": 48,
     "metadata": {},
     "output_type": "execute_result"
    }
   ],
   "source": [
    "from sklearn.feature_selection import SelectFromModel\n",
    "sel = SelectFromModel(clf)\n",
    "sel.fit(X_train_scaled, y_train)"
   ]
  },
  {
   "cell_type": "code",
   "execution_count": 49,
   "metadata": {},
   "outputs": [],
   "source": [
    "X_selected_train, X_selected_test, y_train, y_test = train_test_split(sel.transform(X), y, random_state=47)\n",
    "scaler = StandardScaler().fit(X_selected_train)\n",
    "X_selected_train_scaled = scaler.transform(X_selected_train)\n",
    "X_selected_test_scaled = scaler.transform(X_selected_test)"
   ]
  },
  {
   "cell_type": "code",
   "execution_count": 50,
   "metadata": {},
   "outputs": [
    {
     "data": {
      "text/plain": [
       "array([-0.87413024, -0.43855411, -0.19599718,  0.11223914, -0.87437569,\n",
       "        0.50078608,  1.06564147, -0.62815746,  0.93074812, -1.20610316,\n",
       "        0.05935908,  0.43399427, -0.56929985,  0.44547109, -0.88106216,\n",
       "        0.40023991,  0.35707262,  0.23056262])"
      ]
     },
     "execution_count": 50,
     "metadata": {},
     "output_type": "execute_result"
    }
   ],
   "source": [
    "X_train_scaled[0]"
   ]
  },
  {
   "cell_type": "code",
   "execution_count": 51,
   "metadata": {},
   "outputs": [
    {
     "data": {
      "text/plain": [
       "array([-0.87413024, -0.43855411, -0.19599718,  0.11223914,  0.23056262])"
      ]
     },
     "execution_count": 51,
     "metadata": {},
     "output_type": "execute_result"
    }
   ],
   "source": [
    "X_selected_train_scaled[0]"
   ]
  },
  {
   "cell_type": "code",
   "execution_count": 52,
   "metadata": {},
   "outputs": [
    {
     "name": "stdout",
     "output_type": "stream",
     "text": [
      "Training Score: 0.5602240896358543\n",
      "Testing Score: 0.48739495798319327\n"
     ]
    }
   ],
   "source": [
    "from sklearn.linear_model import LogisticRegression\n",
    "clf2 = LogisticRegression()\n",
    "clf2.fit(X_selected_train_scaled, y_train)\n",
    "print(f'Training Score: {clf2.score(X_selected_train_scaled, y_train)}')\n",
    "print(f'Testing Score: {clf2.score(X_selected_test_scaled, y_test)}')"
   ]
  },
  {
   "cell_type": "code",
   "execution_count": 53,
   "metadata": {},
   "outputs": [
    {
     "data": {
      "text/plain": [
       "array([[ 0,  0,  2,  0,  0,  1,  0,  0],\n",
       "       [ 0,  0,  0,  0,  1,  1,  0,  0],\n",
       "       [ 0,  0,  0,  0,  0,  0,  0,  0],\n",
       "       [ 0,  0,  2,  2,  0,  2,  1,  0],\n",
       "       [ 0,  0,  1,  0,  1, 14,  3,  0],\n",
       "       [ 0,  0,  0,  0,  0,  9, 18,  0],\n",
       "       [ 0,  0,  0,  0,  2,  6, 45,  0],\n",
       "       [ 0,  0,  0,  0,  0,  0,  7,  1]])"
      ]
     },
     "execution_count": 53,
     "metadata": {},
     "output_type": "execute_result"
    }
   ],
   "source": [
    "from sklearn.metrics import confusion_matrix, classification_report\n",
    "y_true = y_test\n",
    "y_pred = clf2.predict(X_selected_test_scaled)\n",
    "confusion_matrix(y_true, y_pred)"
   ]
  },
  {
   "cell_type": "code",
   "execution_count": 54,
   "metadata": {},
   "outputs": [
    {
     "name": "stdout",
     "output_type": "stream",
     "text": [
      "              precision    recall  f1-score   support\n",
      "\n",
      "           1       0.00      0.00      0.00         3\n",
      "           2       0.00      0.00      0.00         2\n",
      "           3       0.00      0.00      0.00         0\n",
      "           4       1.00      0.29      0.44         7\n",
      "           5       0.25      0.05      0.09        19\n",
      "           6       0.27      0.33      0.30        27\n",
      "           7       0.61      0.85      0.71        53\n",
      "           8       1.00      0.12      0.22         8\n",
      "\n",
      "    accuracy                           0.49       119\n",
      "   macro avg       0.39      0.21      0.22       119\n",
      "weighted avg       0.50      0.49      0.44       119\n",
      "\n"
     ]
    },
    {
     "name": "stderr",
     "output_type": "stream",
     "text": [
      "/Users/tommysmacbook/opt/anaconda3/envs/mlenv/lib/python3.7/site-packages/sklearn/metrics/_classification.py:1318: UndefinedMetricWarning: Precision and F-score are ill-defined and being set to 0.0 in labels with no predicted samples. Use `zero_division` parameter to control this behavior.\n",
      "  _warn_prf(average, modifier, msg_start, len(result))\n",
      "/Users/tommysmacbook/opt/anaconda3/envs/mlenv/lib/python3.7/site-packages/sklearn/metrics/_classification.py:1318: UndefinedMetricWarning: Recall and F-score are ill-defined and being set to 0.0 in labels with no true samples. Use `zero_division` parameter to control this behavior.\n",
      "  _warn_prf(average, modifier, msg_start, len(result))\n",
      "/Users/tommysmacbook/opt/anaconda3/envs/mlenv/lib/python3.7/site-packages/sklearn/metrics/_classification.py:1318: UndefinedMetricWarning: Precision and F-score are ill-defined and being set to 0.0 in labels with no predicted samples. Use `zero_division` parameter to control this behavior.\n",
      "  _warn_prf(average, modifier, msg_start, len(result))\n",
      "/Users/tommysmacbook/opt/anaconda3/envs/mlenv/lib/python3.7/site-packages/sklearn/metrics/_classification.py:1318: UndefinedMetricWarning: Recall and F-score are ill-defined and being set to 0.0 in labels with no true samples. Use `zero_division` parameter to control this behavior.\n",
      "  _warn_prf(average, modifier, msg_start, len(result))\n",
      "/Users/tommysmacbook/opt/anaconda3/envs/mlenv/lib/python3.7/site-packages/sklearn/metrics/_classification.py:1318: UndefinedMetricWarning: Precision and F-score are ill-defined and being set to 0.0 in labels with no predicted samples. Use `zero_division` parameter to control this behavior.\n",
      "  _warn_prf(average, modifier, msg_start, len(result))\n",
      "/Users/tommysmacbook/opt/anaconda3/envs/mlenv/lib/python3.7/site-packages/sklearn/metrics/_classification.py:1318: UndefinedMetricWarning: Recall and F-score are ill-defined and being set to 0.0 in labels with no true samples. Use `zero_division` parameter to control this behavior.\n",
      "  _warn_prf(average, modifier, msg_start, len(result))\n"
     ]
    }
   ],
   "source": [
    "print(classification_report(y_true, y_pred))"
   ]
  },
  {
   "cell_type": "code",
   "execution_count": 55,
   "metadata": {},
   "outputs": [
    {
     "data": {
      "text/plain": [
       "array([[6.57098233e-05, 2.52007228e-04, 4.82047770e-03, 2.38073148e-02,\n",
       "        7.31481736e-02, 2.83716335e-01, 5.76296822e-01, 3.78931605e-02],\n",
       "       [2.93323295e-06, 3.01507565e-05, 1.02907925e-03, 6.38326905e-04,\n",
       "        2.25637053e-03, 7.93050537e-02, 8.54613805e-01, 6.21242805e-02],\n",
       "       [1.70183879e-02, 8.81613364e-03, 3.86382315e-02, 1.51470291e-01,\n",
       "        2.87490269e-01, 3.14542325e-01, 1.62529113e-01, 1.94952484e-02],\n",
       "       [1.42945544e-04, 9.63918298e-04, 1.66660559e-02, 2.67267302e-02,\n",
       "        8.69462907e-02, 3.64707822e-01, 4.81256370e-01, 2.25898665e-02],\n",
       "       [1.33163581e-05, 2.07622437e-04, 6.50297721e-03, 1.51297470e-02,\n",
       "        6.08285983e-02, 3.11832409e-01, 5.81086162e-01, 2.43991676e-02],\n",
       "       [3.65959949e-03, 1.50575764e-02, 9.38776308e-02, 1.16078517e-01,\n",
       "        1.89586290e-01, 4.30336922e-01, 1.47774099e-01, 3.62936530e-03],\n",
       "       [1.09063772e-05, 1.54503736e-04, 5.44275846e-03, 1.43316301e-02,\n",
       "        7.15488353e-02, 2.91905203e-01, 5.79589138e-01, 3.70170258e-02],\n",
       "       [6.79030963e-03, 1.71509768e-02, 1.03400609e-01, 1.10187340e-01,\n",
       "        2.53183755e-01, 3.74622097e-01, 1.27685800e-01, 6.97911249e-03],\n",
       "       [1.31669160e-04, 4.05983240e-04, 7.53198344e-03, 4.08579721e-02,\n",
       "        1.73078568e-01, 3.02435874e-01, 4.15236156e-01, 6.03217945e-02],\n",
       "       [4.24533606e-04, 2.17781673e-03, 2.58067152e-02, 8.61774059e-02,\n",
       "        2.06292455e-01, 4.10575571e-01, 2.56378346e-01, 1.21671564e-02]])"
      ]
     },
     "execution_count": 55,
     "metadata": {},
     "output_type": "execute_result"
    }
   ],
   "source": [
    "clf2.predict_proba(X_selected_test_scaled[0:10])"
   ]
  },
  {
   "cell_type": "code",
   "execution_count": 19,
   "metadata": {},
   "outputs": [
    {
     "data": {
      "text/plain": [
       "LogisticRegression()"
      ]
     },
     "execution_count": 19,
     "metadata": {},
     "output_type": "execute_result"
    }
   ],
   "source": [
    "from sklearn.linear_model import LogisticRegression\n",
    "classifier = LogisticRegression()\n",
    "classifier"
   ]
  },
  {
   "cell_type": "code",
   "execution_count": 20,
   "metadata": {},
   "outputs": [
    {
     "name": "stderr",
     "output_type": "stream",
     "text": [
      "/Users/tommysmacbook/opt/anaconda3/envs/mlenv/lib/python3.7/site-packages/sklearn/linear_model/_logistic.py:818: ConvergenceWarning: lbfgs failed to converge (status=1):\n",
      "STOP: TOTAL NO. of ITERATIONS REACHED LIMIT.\n",
      "\n",
      "Increase the number of iterations (max_iter) or scale the data as shown in:\n",
      "    https://scikit-learn.org/stable/modules/preprocessing.html\n",
      "Please also refer to the documentation for alternative solver options:\n",
      "    https://scikit-learn.org/stable/modules/linear_model.html#logistic-regression\n",
      "  extra_warning_msg=_LOGISTIC_SOLVER_CONVERGENCE_MSG,\n"
     ]
    },
    {
     "data": {
      "text/plain": [
       "LogisticRegression()"
      ]
     },
     "execution_count": 20,
     "metadata": {},
     "output_type": "execute_result"
    }
   ],
   "source": [
    "classifier.fit(X_train_scaled, y_train)"
   ]
  },
  {
   "cell_type": "code",
   "execution_count": 21,
   "metadata": {},
   "outputs": [
    {
     "name": "stdout",
     "output_type": "stream",
     "text": [
      "Training Data Score: 0.6442577030812325\n",
      "Testing Data Score: 0.5210084033613446\n"
     ]
    }
   ],
   "source": [
    "print(f\"Training Data Score: {classifier.score(X_train_scaled, y_train)}\")\n",
    "print(f\"Testing Data Score: {classifier.score(X_test_scaled, y_test)}\")"
   ]
  },
  {
   "cell_type": "code",
   "execution_count": 22,
   "metadata": {},
   "outputs": [
    {
     "data": {
      "text/plain": [
       "array([[ 0,  1,  2,  0,  0,  0,  0,  0],\n",
       "       [ 0,  0,  0,  0,  2,  0,  0,  0],\n",
       "       [ 0,  0,  0,  0,  0,  0,  0,  0],\n",
       "       [ 0,  1,  1,  0,  2,  3,  0,  0],\n",
       "       [ 0,  0,  1,  1,  1, 12,  4,  0],\n",
       "       [ 0,  0,  0,  0,  0, 14, 13,  0],\n",
       "       [ 0,  0,  1,  0,  0,  8, 44,  0],\n",
       "       [ 0,  0,  0,  0,  0,  0,  5,  3]])"
      ]
     },
     "execution_count": 22,
     "metadata": {},
     "output_type": "execute_result"
    }
   ],
   "source": [
    "y_true = y_test\n",
    "y_pred = classifier.predict(X_test_scaled)\n",
    "confusion_matrix(y_true, y_pred)"
   ]
  },
  {
   "cell_type": "code",
   "execution_count": 23,
   "metadata": {},
   "outputs": [
    {
     "data": {
      "text/plain": [
       "array([[  7,   0,   0,   0,   0,   0,   0,   0],\n",
       "       [  7,   0,   0,   0,   0,   0,   0,   0],\n",
       "       [ 14,   0,   0,   0,   0,   0,   0,   0],\n",
       "       [ 28,   0,   0,   0,   0,   0,   0,   0],\n",
       "       [ 56,   0,   0,   0,   0,   0,   0,   0],\n",
       "       [112,   0,   0,   0,   0,   0,   0,   0],\n",
       "       [222,   0,   0,   0,   0,   0,   0,   2],\n",
       "       [ 26,   0,   0,   0,   0,   0,   0,   2]])"
      ]
     },
     "execution_count": 23,
     "metadata": {},
     "output_type": "execute_result"
    }
   ],
   "source": [
    "confusion_matrix(y, classifier.predict(X))"
   ]
  },
  {
   "cell_type": "code",
   "execution_count": 24,
   "metadata": {},
   "outputs": [
    {
     "name": "stdout",
     "output_type": "stream",
     "text": [
      "              precision    recall  f1-score   support\n",
      "\n",
      "           1       0.00      0.00      0.00         3\n",
      "           2       0.00      0.00      0.00         2\n",
      "           3       0.00      0.00      0.00         0\n",
      "           4       0.00      0.00      0.00         7\n",
      "           5       0.20      0.05      0.08        19\n",
      "           6       0.38      0.52      0.44        27\n",
      "           7       0.67      0.83      0.74        53\n",
      "           8       1.00      0.38      0.55         8\n",
      "\n",
      "    accuracy                           0.52       119\n",
      "   macro avg       0.28      0.22      0.23       119\n",
      "weighted avg       0.48      0.52      0.48       119\n",
      "\n"
     ]
    },
    {
     "name": "stderr",
     "output_type": "stream",
     "text": [
      "/Users/tommysmacbook/opt/anaconda3/envs/mlenv/lib/python3.7/site-packages/sklearn/metrics/_classification.py:1318: UndefinedMetricWarning: Precision and F-score are ill-defined and being set to 0.0 in labels with no predicted samples. Use `zero_division` parameter to control this behavior.\n",
      "  _warn_prf(average, modifier, msg_start, len(result))\n",
      "/Users/tommysmacbook/opt/anaconda3/envs/mlenv/lib/python3.7/site-packages/sklearn/metrics/_classification.py:1318: UndefinedMetricWarning: Recall and F-score are ill-defined and being set to 0.0 in labels with no true samples. Use `zero_division` parameter to control this behavior.\n",
      "  _warn_prf(average, modifier, msg_start, len(result))\n",
      "/Users/tommysmacbook/opt/anaconda3/envs/mlenv/lib/python3.7/site-packages/sklearn/metrics/_classification.py:1318: UndefinedMetricWarning: Precision and F-score are ill-defined and being set to 0.0 in labels with no predicted samples. Use `zero_division` parameter to control this behavior.\n",
      "  _warn_prf(average, modifier, msg_start, len(result))\n",
      "/Users/tommysmacbook/opt/anaconda3/envs/mlenv/lib/python3.7/site-packages/sklearn/metrics/_classification.py:1318: UndefinedMetricWarning: Recall and F-score are ill-defined and being set to 0.0 in labels with no true samples. Use `zero_division` parameter to control this behavior.\n",
      "  _warn_prf(average, modifier, msg_start, len(result))\n",
      "/Users/tommysmacbook/opt/anaconda3/envs/mlenv/lib/python3.7/site-packages/sklearn/metrics/_classification.py:1318: UndefinedMetricWarning: Precision and F-score are ill-defined and being set to 0.0 in labels with no predicted samples. Use `zero_division` parameter to control this behavior.\n",
      "  _warn_prf(average, modifier, msg_start, len(result))\n",
      "/Users/tommysmacbook/opt/anaconda3/envs/mlenv/lib/python3.7/site-packages/sklearn/metrics/_classification.py:1318: UndefinedMetricWarning: Recall and F-score are ill-defined and being set to 0.0 in labels with no true samples. Use `zero_division` parameter to control this behavior.\n",
      "  _warn_prf(average, modifier, msg_start, len(result))\n"
     ]
    }
   ],
   "source": [
    "print(classification_report(y_true, y_pred))"
   ]
  }
 ],
 "metadata": {
  "kernelspec": {
   "display_name": "mlenv",
   "language": "python",
   "name": "python3"
  },
  "language_info": {
   "codemirror_mode": {
    "name": "ipython",
    "version": 3
   },
   "file_extension": ".py",
   "mimetype": "text/x-python",
   "name": "python",
   "nbconvert_exporter": "python",
   "pygments_lexer": "ipython3",
   "version": "3.7.13"
  },
  "orig_nbformat": 4
 },
 "nbformat": 4,
 "nbformat_minor": 2
}
